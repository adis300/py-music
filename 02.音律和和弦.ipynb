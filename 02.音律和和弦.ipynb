{
 "cells": [
  {
   "cell_type": "markdown",
   "metadata": {},
   "source": [
    "# 谐波\n",
    "\n",
    " \n",
    "下面这个系统展示了随着振动频率不断加快，几个特殊的频率会使连线的振幅会变得很大。\n",
    "\n",
    "这表明每个系统都有自己最适合振动的频率。\n",
    "\n",
    "<video controls src=\"./video/modes_on_a_string.mp4\" />\n",
    "\n"
   ]
  },
  {
   "cell_type": "markdown",
   "metadata": {},
   "source": [
    "古希腊的毕达哥拉斯（约公元前575～约公元前500年），生平充满传奇色彩。他不仅是位杰出的哲学家、数学家、天文学家和教育家，还是个有名的音乐家、琴师和歌手。他提出了“万物皆数”和“宇宙和谐”的理念，并据此认为由“智慧的数”组成的音乐是完美的，而其中最完美的是天体发出的“宇宙音乐”。他发现了琴弦和声与弦长之间的简单数字关系，从此使音乐成为一门建立在数学基础上的艺术科学。\n",
    "\n",
    "他首先发现了音乐的谐音音高和弦长度的关系。与弦长成反比。\n",
    "\n",
    "这就是著名的琴弦定律，用力学的语言描述为：在给定张力作用下一根给定弦的频率f与其长度L成反比；音程之比愈简单和声愈和谐，2比1，3比2，4比3的振动的频率让我们听起来最舒服。\n",
    "\n",
    "<img src=\"./img/pythagoras.jpeg\" />"
   ]
  },
  {
   "cell_type": "markdown",
   "metadata": {},
   "source": [
    "$C = f_0$\n",
    "\n",
    "$\\frac{3}{2}C = G$\n",
    "\n",
    "$\\frac{3}{4}G = D$\n",
    "\n",
    "$\\frac{3}{2}D = A$\n",
    "\n",
    "$\\frac{3}{4}A = E$\n",
    "\n",
    "$\\frac{3}{2}E = B$\n",
    "\n",
    "$\\frac{3}{2}F = \\hat{C} = 2f_0 => F = \\frac{4}{3}f_0$\n",
    "\n",
    "\n",
    "\n",
    "|$C$|$D$|$E$|$F$|$G$|$A$|$B$|$\\hat{C}$|\n",
    "|---|---|---|---|---|---|---|---|\n",
    "|Do|Re|Mi|Fa|So|La|Ti|Do|\n",
    "|1|2|3|4|5|6|7|8|\n",
    "|$1f_0$|$\\frac{9}{8}f_0$|$\\frac{81}{64}f_0$|$\\frac{4}{3}f_0$|$\\frac{3}{2}f_0$|$\\frac{27}{16}f$|$\\frac{243}{128}f$|$2f$|\n",
    "\n",
    "\n",
    "宫gōng、商shāng、角jué、徵zhǐ、羽yǔ，起源于春秋时期，是中国古乐五个基本音阶，相当于西乐的Do（宫）、Re（商）、Mi（角）、Sol（徵）、La（羽）\n",
    "<span style=\"color:red\">（没有 Fa 与 Si ）</span>\n",
    "，亦称为五音。\n",
    "最早的“宫商角徵羽”的名称见于距今2600余年的春秋时期，在《管子·地员篇》中，有采用数学运算方法获得“宫、商、角、徵、羽”五个音的科学办法，这就是中国音乐史上著名的“三分损益法”。\n",
    "\n",
    "[https://www.zhihu.com/question/20417721/answer/635871441](https://www.zhihu.com/question/20417721/answer/635871441)\n",
    "\n"
   ]
  },
  {
   "cell_type": "markdown",
   "metadata": {},
   "source": [
    "\n",
    "小样1 D大调卡农:\n",
    "\n",
    "<audio src=\"./audio/canon_d.mp3\" controls />"
   ]
  },
  {
   "cell_type": "markdown",
   "metadata": {},
   "source": [
    "小样2 中国音乐\n",
    "\n",
    "<audio src=\"./audio/asian_music.mp3\" controls />"
   ]
  },
  {
   "cell_type": "markdown",
   "metadata": {},
   "source": [
    "每一种文化都有自己特殊的音符组合、排列方式，配以不同的节奏，便赋予了音乐在地域和文化上的独特风格。\n",
    "\n",
    "下面是一个典型的国风音乐的简谱。\n",
    "<img src=\"./img/asian_music.png\" />"
   ]
  },
  {
   "cell_type": "code",
   "execution_count": 3,
   "metadata": {},
   "outputs": [],
   "source": [
    "# 来自第一章\n",
    "import numpy as np\n",
    "import sounddevice as sd\n",
    "\n",
    "fs = 8000\n",
    "A_freq = 440\n",
    "\n",
    "def create_sound(f, duration):\n",
    "    note_t = np.linspace(0, duration, fs * duration)\n",
    "    note = np.cos(2 * np.pi * f * note_t)  # 主音\n",
    "    decorations = [0.67, 0.35, 0.43, 0.05, 0.27, 0.09, 0.02] # 倍频修饰\n",
    "    for i in range(len(decorations)):\n",
    "        decor_freq = f * (i + 2)\n",
    "        note += decorations[i] * np.cos(2 * np.pi * decor_freq * note_t)\n",
    "    return note"
   ]
  },
  {
   "cell_type": "markdown",
   "metadata": {},
   "source": [
    "Now lets create a Pythagoras music dictionary"
   ]
  },
  {
   "cell_type": "code",
   "execution_count": 6,
   "metadata": {},
   "outputs": [
    {
     "name": "stdout",
     "output_type": "stream",
     "text": [
      "音符 C 的频率是: 260.74\n",
      "音符 D 的频率是: 293.33\n",
      "音符 E 的频率是: 330.00\n",
      "音符 F 的频率是: 347.65\n",
      "音符 G 的频率是: 391.11\n",
      "音符 A 的频率是: 440.00\n",
      "音符 B 的频率是: 495.00\n",
      "音符 C^ 的频率是: 521.48\n"
     ]
    }
   ],
   "source": [
    "note_dict = {}\n",
    "note_dict[\"A\"] = 440.0;\n",
    "note_dict[\"E\"] = 3.0/4.0 * note_dict[\"A\"];\n",
    "note_dict[\"B\"] = 3.0/2.0 * note_dict[\"E\"];\n",
    "\n",
    "note_dict[\"D\"] = 2.0/3.0 * note_dict[\"A\"];\n",
    "note_dict[\"G\"] = 4.0/3.0 * note_dict[\"D\"];\n",
    "note_dict[\"C\"] = 2.0/3.0 * note_dict[\"G\"];\n",
    "note_dict[\"C^\"] = 2.0 * note_dict[\"C\"];\n",
    "note_dict[\"F\"] = 4.0/3.0 * note_dict[\"C\"];\n",
    "\n",
    "notes = [\"C\", \"D\", \"E\", \"F\", \"G\", \"A\", \"B\", \"C^\"]\n",
    "music = []\n",
    "for note in notes:\n",
    "    freq = note_dict[note]\n",
    "    print(\"音符 %s 的频率是: %.2f\"% (note, freq))\n",
    "    music = np.concatenate((music, create_sound(freq, 1)))\n",
    "\n",
    "sd.play(music, fs)"
   ]
  },
  {
   "cell_type": "markdown",
   "metadata": {},
   "source": [
    "# 现代音律：十二平均律\n",
    "\n",
    "朱载堉是朱元璋的八世孙，明代著名的律学家（被称为“律圣”）、历学家、音乐家。\n",
    "<img src=\"./img/zhuzaiyu.jpeg\" />\n",
    "\n",
    "在中国人中，据说有一个王子叫载堉的，他在旧派音乐家的大反对中，倡导七声音阶。把八度分成十二个半音以及变调的方法。\n",
    "<img src=\"./img/zhu_twelve.png\" />\n",
    "\n",
    "这个方法后来被传到了西方，并倍伽利雷在其著作中推广 《Dialogo della musica antica et della moderna(古代与现代音乐的对话)》\n",
    "<img src=\"./img/vincenzo_galilei.png\" />\n",
    "\n",
    "$C = 2\\hat{C} = k^{12}C$\n",
    "\n",
    "$=> k = \\sqrt[12]{2}$\n",
    "\n",
    "|$C$|$C\\#$|$D$|$D\\#$|$E$|$F$|$F\\#$|$G$|$G\\#$|$A$|$A\\#$|$B$|$\\hat{C}$|\n",
    "|---|---|---|---|---|---|---|---|---|---|---|---|---|\n",
    "|$f_0$|$kf_0$|$k^{2}f_0$|$k^{3}f_0$|$k^{4}f_0$|$k^{5}f_0$|$k^{6}f_0$|$k^{7}f_0$|$k^{8}f_0$|$k^{9}f_0$|$k^{10}f_0$|$k^{11}f_0$|$k^{12}f_0,2f_0$|\n",
    "\n",
    "这样的拆分办法使调音和计算简单了许多。"
   ]
  },
  {
   "cell_type": "code",
   "execution_count": 10,
   "metadata": {},
   "outputs": [
    {
     "name": "stdout",
     "output_type": "stream",
     "text": [
      "音符 C 的频率是: 261.63\n",
      "音符 D 的频率是: 293.66\n",
      "音符 E 的频率是: 329.63\n",
      "音符 F 的频率是: 349.23\n",
      "音符 G 的频率是: 392.00\n",
      "音符 A 的频率是: 440.00\n",
      "音符 B 的频率是: 493.88\n",
      "音符 C^ 的频率是: 523.25\n"
     ]
    }
   ],
   "source": [
    "# 现在我们做一个现代音乐的字典，用来查询他们对应的频率\n",
    "freq_dict = {}\n",
    "k = 2.0**(1.0/12.0)\n",
    "fa = 440\n",
    "f0 = fa / (k ** 9)\n",
    "\n",
    "notes = [\"C\", \"C#\", \"D\", \"D#\", \"E\", \"F\", \"F#\", \"G\", \"G#\", \"A\", \"A#\",  \"B\", \"C^\"]\n",
    "\n",
    "for i, note in enumerate(notes, start=0):\n",
    "    freq_dict[note] = (k**i) * f0\n",
    "    \n",
    "music = []\n",
    "for note in notes:\n",
    "    freq = freq_dict[note]\n",
    "    if note in [\"C\", \"D\", \"E\", \"F\", \"G\", \"A\", \"B\", \"C^\"]: # Only print the major notes, we will compare with Pythagoras' frequencies\n",
    "        print(\"音符 %s 的频率是: %.2f\"% (note, freq))\n",
    "        music = np.concatenate((music, create_sound(freq, 1)))\n",
    "\n",
    "sd.play(music, fs)"
   ]
  },
  {
   "cell_type": "code",
   "execution_count": 14,
   "metadata": {},
   "outputs": [],
   "source": [
    "# 下面我们比较一下这两种方法算出的声音\n",
    "notes = [\"C\", \"D\", \"E\", \"F\", \"G\", \"A\", \"B\", \"C^\"]\n",
    "music = []\n",
    "blank = np.zeros(int(fs * 0.1))\n",
    "for note in notes:\n",
    "    music = np.concatenate((music, create_sound(note_dict[note], 1)))\n",
    "    music = np.concatenate((music, blank))\n",
    "    music = np.concatenate((music, create_sound(freq_dict[note], 1)))\n",
    "\n",
    "sd.play(music, fs)"
   ]
  },
  {
   "cell_type": "markdown",
   "metadata": {},
   "source": [
    "# 和弦\n",
    "当我们把和谐的几个音一起弹奏的时候，我们就会听到一个和谐舒服的声音。"
   ]
  },
  {
   "cell_type": "code",
   "execution_count": 19,
   "metadata": {},
   "outputs": [],
   "source": [
    "# C, E and G 和弦\n",
    "dur = 1 # sec\n",
    "CEG_harmo = create_sound(freq_dict[\"C\"], dur) + create_sound(freq_dict[\"E\"], dur) + create_sound(freq_dict[\"G\"], dur)\n",
    "\n",
    "sd.play(CEG_harmo, fs)\n",
    "\n",
    "\n"
   ]
  },
  {
   "cell_type": "code",
   "execution_count": 20,
   "metadata": {},
   "outputs": [],
   "source": [
    "# D,F#, A 和弦\n",
    "DFsA_harmo = create_sound(freq_dict[\"D\"], dur) + create_sound(freq_dict[\"F#\"], dur) + create_sound(freq_dict[\"A\"], dur)\n",
    "sd.play(DFsA_harmo, fs)\n",
    "\n"
   ]
  },
  {
   "cell_type": "code",
   "execution_count": null,
   "metadata": {},
   "outputs": [],
   "source": [
    "# 现在把播放和弦变成一个函数\n",
    "def create_chord(chords, duration, freq_dict):\n",
    "    sound = np.zeros(int(duration*fs))\n",
    "    for note in chords:\n",
    "        sound += create_sound(freq_dict[note], duration)\n",
    "    return sound"
   ]
  }
 ],
 "metadata": {
  "kernelspec": {
   "display_name": "Python 3 (ipykernel)",
   "language": "python",
   "name": "python3"
  },
  "language_info": {
   "codemirror_mode": {
    "name": "ipython",
    "version": 3
   },
   "file_extension": ".py",
   "mimetype": "text/x-python",
   "name": "python",
   "nbconvert_exporter": "python",
   "pygments_lexer": "ipython3",
   "version": "3.8.9"
  }
 },
 "nbformat": 4,
 "nbformat_minor": 2
}
