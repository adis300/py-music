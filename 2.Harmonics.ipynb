{
 "cells": [
  {
   "cell_type": "markdown",
   "metadata": {},
   "source": [
    "# Harmonics\n",
    "\n",
    "Everything has its favorite frequency to vibrate at. \n",
    "\n",
    "The following video shows a string vibrating at different frequency this creates a standing wave.\n",
    "\n",
    "<video controls src=\"./video/modes_on_a_string.mp4\" />\n",
    "\n"
   ]
  },
  {
   "cell_type": "markdown",
   "metadata": {},
   "source": [
    "## Pythagoras and his *musica universalis* \n",
    "\n",
    "<img src=\"./img/pythagoras.png\"/>"
   ]
  },
  {
   "cell_type": "markdown",
   "metadata": {},
   "source": [
    "Pythagoras believes vibration frequencies forming ratio of 2:1, 3:2 and 4:3 are most pleasing to our ears.\n",
    "\n",
    "<img src=\"./img/pythagorean_tuning.png\" />\n",
    "\n",
    "$G$ is called a perfict fifth\n",
    "\n",
    "$C = f_0$\n",
    "\n",
    "$\\frac{3}{2}C = G$\n",
    "\n",
    "$\\frac{3}{4}G = D$\n",
    "\n",
    "$\\frac{3}{2}D = A$\n",
    "\n",
    "$\\frac{3}{4}A = E$\n",
    "\n",
    "$\\frac{3}{2}E = B$\n",
    "\n",
    "$\\frac{3}{2}F = \\hat{C} = 2f_0 => F = \\frac{4}{3}f_0$\n",
    "\n",
    "\n",
    "\n",
    "|$C$|$D$|$E$|$F$|$G$|$A$|$B$|$\\hat{C}$|\n",
    "|---|---|---|---|---|---|---|---|\n",
    "|Do|Re|Mi|Fa|So|La|Ti|Do|\n",
    "|1|2|3|4|5|6|7|8|\n",
    "|$1f_0$|$\\frac{9}{8}f_0$|$\\frac{81}{64}f_0$|$\\frac{4}{3}f_0$|$\\frac{3}{2}f_0$|$\\frac{27}{16}f$|$\\frac{243}{128}f$|$2f$|\n",
    "\n",
    "\n",
    "Asian music uses five notes based on 宫(Gong, $Do$)、商(Shang, $Re$)、角(Jue, $Mi$)、徵(Zhi, $So$)、羽(Yu, $La$) invented by Mr. Guan(管仲)\n",
    "\n",
    "For more details please check [Zhihu](https://www.zhihu.com/question/20417721/answer/635871441)\n",
    "\n",
    "So typical asian music is lack of Fa, (4, F) and Ti (7,B)\n",
    "\n",
    "<img src=\"./img/asian_music.png\" />"
   ]
  },
  {
   "cell_type": "code",
   "execution_count": 13,
   "metadata": {},
   "outputs": [],
   "source": [
    "# From Chapter 1\n",
    "import numpy as np\n",
    "import sounddevice as sd\n",
    "\n",
    "fs = 8000      # Sampling frequency CD rates at 44100 (44.1 kHz)\n",
    "A_freq = 440   # This is a ISO standard\n",
    "\n",
    "def create_sound(f, duration):\n",
    "    t = np.linspace(0, duration, fs * duration)\n",
    "    \n",
    "    note = np.cos(2 * np.pi * f * t)  # base note\n",
    "    for i in range(2, 6):\n",
    "        note += 0.3 / i * np.cos(i * 2 * np.pi * f * t)  #  sine(2*pi*f*t)\n",
    "    return note"
   ]
  },
  {
   "cell_type": "markdown",
   "metadata": {},
   "source": [
    "Now lets create a Pythagoras music dictionary"
   ]
  },
  {
   "cell_type": "code",
   "execution_count": 44,
   "metadata": {},
   "outputs": [
    {
     "name": "stdout",
     "output_type": "stream",
     "text": [
      "The frequency for note C is: 260.74\n",
      "The frequency for note D is: 293.33\n",
      "The frequency for note E is: 330.00\n",
      "The frequency for note F is: 347.65\n",
      "The frequency for note G is: 391.11\n",
      "The frequency for note A is: 440.00\n",
      "The frequency for note B is: 495.00\n",
      "The frequency for note C^ is: 521.48\n"
     ]
    }
   ],
   "source": [
    "pyth_f_dict = {}\n",
    "pyth_f_dict[\"A\"] = 440.0;\n",
    "pyth_f_dict[\"E\"] = 3.0/4.0 * pyth_f_dict[\"A\"];\n",
    "pyth_f_dict[\"B\"] = 3.0/2.0 * pyth_f_dict[\"E\"];\n",
    "\n",
    "pyth_f_dict[\"D\"] = 2.0/3.0 * pyth_f_dict[\"A\"];\n",
    "pyth_f_dict[\"G\"] = 4.0/3.0 * pyth_f_dict[\"D\"];\n",
    "pyth_f_dict[\"C\"] = 2.0/3.0 * pyth_f_dict[\"G\"];\n",
    "pyth_f_dict[\"C^\"] = 2.0 * pyth_f_dict[\"C\"];\n",
    "pyth_f_dict[\"F\"] = 4.0/3.0 * pyth_f_dict[\"C\"];\n",
    "\n",
    "notes = [\"C\", \"D\", \"E\", \"F\", \"G\", \"A\", \"B\", \"C^\"]\n",
    "music = []\n",
    "for note in notes:\n",
    "    freq = pyth_f_dict[note]\n",
    "    print(\"The frequency for note %s is: %.2f\"% (note, freq))\n",
    "    music = np.concatenate((music, create_sound(freq, 1)))\n",
    "\n",
    "sd.play(music, fs)"
   ]
  },
  {
   "cell_type": "markdown",
   "metadata": {},
   "source": [
    "# The twelve averages\n",
    "\n",
    "The twelve averages rule basically devides one octave into equal intervals\n",
    "Zaiyu Zhu (The 8th generation son of Ming dynasty King Yuangzhang Zhu) invented a method to compute the accurate frequency values dividing one octave into 12 equal intervals. All numbers documented are acurate to the 25's decimals.\n",
    "<img src=\"./img/zaiyu_zhu.png\" />\n",
    "\n",
    "Vincenzo Galilei (The father of famous Galileo) promoted this method in the western world in his book - *Dialogo della musica antica et della moderna*\n",
    "<img src=\"./img/vincenzo_galilei.png\" />\n",
    "\n",
    "\n",
    "We compute the ratio $k$ which makes all notes a *Equal ratio series*\n",
    "\n",
    "$C = 2\\hat{C} = k^{12}C$\n",
    "\n",
    "$=> k = \\sqrt[12]{2}$\n",
    "\n",
    "|$C$|$C\\#$|$D$|$D\\#$|$E$|$F$|$F\\#$|$G$|$G\\#$|$A$|$A\\#$|$B$|$\\hat{C}$|\n",
    "|---|---|---|---|---|---|---|---|---|---|---|---|---|\n",
    "|$f_0$|$kf_0$|$k^{2}f_0$|$k^{3}f_0$|$k^{4}f_0$|$k^{5}f_0$|$k^{6}f_0$|$k^{7}f_0$|$k^{8}f_0$|$k^{9}f_0$|$k^{10}f_0$|$k^{11}f_0$|$k^{12}f_0$|\n",
    "\n",
    "\n",
    "This also makes tune modulation much easier.\n",
    "\n",
    "\n",
    "Now let's create a modern music note frequency dictionary"
   ]
  },
  {
   "cell_type": "code",
   "execution_count": 42,
   "metadata": {},
   "outputs": [
    {
     "name": "stdout",
     "output_type": "stream",
     "text": [
      "The frequency for note C is: 261.63\n",
      "The frequency for note D is: 293.66\n",
      "The frequency for note E is: 329.63\n",
      "The frequency for note F is: 349.23\n",
      "The frequency for note G is: 392.00\n",
      "The frequency for note A is: 440.00\n",
      "The frequency for note B is: 493.88\n"
     ]
    }
   ],
   "source": [
    "freq_dict = {}\n",
    "k = 2.0**(1.0/12.0)\n",
    "fa = 440\n",
    "f0 = fa / (k ** 9)\n",
    "\n",
    "notes = [\"C\", \"C#\", \"D\", \"D#\", \"E\", \"F\", \"F#\", \"G\", \"G#\", \"A\", \"A#\",  \"B\", \"C^\"]\n",
    "\n",
    "for i, note in enumerate(notes, start=0):\n",
    "    freq_dict[note] = (k**i) * f0\n",
    "    \n",
    "music = []\n",
    "for note in notes:\n",
    "    freq = freq_dict[note]\n",
    "    if len(note) == 1: # Only print the major notes, we will compare with Pythagoras' frequencies\n",
    "        print(\"The frequency for note %s is: %.2f\"% (note, freq))\n",
    "    music = np.concatenate((music, create_sound(freq, 1)))\n",
    "\n",
    "sd.play(music, fs)"
   ]
  },
  {
   "cell_type": "code",
   "execution_count": 48,
   "metadata": {},
   "outputs": [],
   "source": [
    "# Compare the two note systems\n",
    "notes = [\"C\", \"D\", \"E\", \"F\", \"G\", \"A\", \"B\", \"C^\"]\n",
    "music = []\n",
    "for note in notes:\n",
    "    music = np.concatenate((music, create_sound(pyth_f_dict[note], 1)))\n",
    "    music = np.concatenate((music, create_sound(freq_dict[note], 1)))\n",
    "\n",
    "sd.play(music, fs)"
   ]
  },
  {
   "cell_type": "markdown",
   "metadata": {},
   "source": [
    "# Superposition of waves - chords\n",
    "\n",
    "Waves can be added on top of each other.\n",
    "<video src=\"./video/superposition.mp4\" />"
   ]
  },
  {
   "cell_type": "code",
   "execution_count": 39,
   "metadata": {},
   "outputs": [],
   "source": [
    "# Harmonic progression of C, E and G\n",
    "\n",
    "dur = 1 # sec\n",
    "CEG_harmo = create_sound(modern_f_dict[\"C\"], dur) + create_sound(modern_f_dict[\"E\"], dur) + create_sound(modern_f_dict[\"G\"], dur)\n",
    "\n",
    "sd.play(AEG_harmo, fs)\n",
    "\n",
    "\n"
   ]
  },
  {
   "cell_type": "code",
   "execution_count": 40,
   "metadata": {},
   "outputs": [],
   "source": [
    "# D,F#, A cords\n",
    "DFsA_harmo = create_sound(modern_f_dict[\"D\"], dur) + create_sound(modern_f_dict[\"F#\"], dur) + create_sound(modern_f_dict[\"A\"], dur)\n",
    "sd.play(DFsA_harmo, fs)\n",
    "\n"
   ]
  },
  {
   "cell_type": "code",
   "execution_count": null,
   "metadata": {},
   "outputs": [],
   "source": []
  }
 ],
 "metadata": {
  "kernelspec": {
   "display_name": "Python 3",
   "language": "python",
   "name": "python3"
  },
  "language_info": {
   "codemirror_mode": {
    "name": "ipython",
    "version": 3
   },
   "file_extension": ".py",
   "mimetype": "text/x-python",
   "name": "python",
   "nbconvert_exporter": "python",
   "pygments_lexer": "ipython3",
   "version": "3.7.3"
  }
 },
 "nbformat": 4,
 "nbformat_minor": 2
}
