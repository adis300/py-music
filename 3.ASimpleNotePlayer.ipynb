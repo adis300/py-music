{
 "cells": [
  {
   "cell_type": "code",
   "execution_count": 44,
   "metadata": {},
   "outputs": [],
   "source": [
    "# From Chapter 1\n",
    "import numpy as np\n",
    "from utility.transform import *\n",
    "import sounddevice as sd\n",
    "%matplotlib inline\n",
    "import matplotlib.pyplot as plt\n",
    "\n",
    "\n",
    "fs = 8000      # Sampling frequency CD rates at 44100 (44.1 kHz)\n",
    "A_freq = 440   # This is a ISO standard\n",
    "\n",
    "def create_sound(f, duration):    \n",
    "    t = np.linspace(0, duration, fs * duration)\n",
    "    \n",
    "    note = np.cos(2 * np.pi * f * t)  # base note\n",
    "    for i in range(2, 6):\n",
    "        note += 0.3 / i * np.cos(i * 2 * np.pi * f * t)  #  sine(2*pi*f*t)\n",
    "    return note"
   ]
  },
  {
   "cell_type": "code",
   "execution_count": 13,
   "metadata": {},
   "outputs": [],
   "source": [
    "# From Chapter 2\n",
    "freq_dict = {}\n",
    "k = 2.0**(1.0/12.0)\n",
    "fa = 440\n",
    "f0 = fa / (k ** 9)\n",
    "\n",
    "notes = [\"C\", \"C#\", \"D\", \"D#\", \"E\", \"F\", \"F#\", \"G\", \"G#\", \"A\", \"A#\",  \"B\", \"C^\"]\n",
    "\n",
    "for i, note in enumerate(notes, start=0):\n",
    "    freq_dict[note] = (k**i) * f0"
   ]
  },
  {
   "cell_type": "code",
   "execution_count": 18,
   "metadata": {},
   "outputs": [
    {
     "name": "stderr",
     "output_type": "stream",
     "text": [
      "/usr/local/lib/python3.7/site-packages/ipykernel_launcher.py:9: DeprecationWarning: object of type <class 'float'> cannot be safely interpreted as an integer.\n",
      "  if __name__ == '__main__':\n"
     ]
    }
   ],
   "source": [
    "# Little star\n",
    "sheet = [(\"C\", 1), (\"C\", 1), (\"G\", 1), (\"G\", 1), (\"A\", 1), (\"A\", 1), (\"G\", 1.5)]\n",
    "\n",
    "music = []\n",
    "for note, duration in sheet:\n",
    "    music = np.concatenate((music, create_sound(freq_dict[note], duration)))\n",
    "    \n",
    "sd.play(music, fs)\n",
    "    "
   ]
  },
  {
   "cell_type": "code",
   "execution_count": null,
   "metadata": {},
   "outputs": [],
   "source": [
    "# Write your song.\n",
    "sheet = []\n",
    "\n"
   ]
  },
  {
   "cell_type": "code",
   "execution_count": 34,
   "metadata": {},
   "outputs": [
    {
     "name": "stdout",
     "output_type": "stream",
     "text": [
      "       meditation       focus\n",
      "0       10.545731 -137.030284\n",
      "1       17.248472 -144.336700\n",
      "2       14.917056 -142.617544\n",
      "3       21.584829 -146.606763\n",
      "4       -8.055051 -160.602570\n",
      "5       29.057185 -160.804749\n",
      "6        8.690834 -144.089381\n",
      "7        0.562668 -149.200757\n",
      "8        3.397624 -162.575086\n",
      "9       13.690313 -152.749379\n",
      "10       8.319855 -148.052216\n",
      "11       0.245412 -142.708778\n",
      "12      22.488276 -144.697507\n",
      "13      18.558820 -141.709646\n",
      "14       8.753459 -131.575584\n",
      "15       8.840243 -113.532066\n",
      "16      11.071523 -121.796926\n",
      "17      14.645894 -115.557988\n",
      "18       4.984856 -120.549838\n",
      "19       8.467674 -114.478429\n",
      "20      24.077733 -109.709104\n",
      "21      12.132645 -100.377401\n",
      "22      23.386637  -98.997116\n",
      "23      -8.581161 -100.549380\n",
      "24      20.301501 -113.839149\n",
      "25      24.586995 -117.709160\n",
      "26       4.143715 -127.444903\n",
      "27       0.740687 -115.434647\n",
      "28      17.417590 -105.703036\n",
      "29       4.743894 -112.373034\n",
      "...           ...         ...\n",
      "54769    2.487183   29.267311\n",
      "54770   -3.550847   33.125242\n",
      "54771    1.829465   28.364499\n",
      "54772   -7.246971   45.185407\n",
      "54773   -3.480593   39.683024\n",
      "54774  -13.106028   30.243874\n",
      "54775  -15.326500   34.109116\n",
      "54776   -1.029650   33.618291\n",
      "54777   10.365804   36.888758\n",
      "54778    9.703000   24.350802\n",
      "54779   24.517377    3.429413\n",
      "54780    3.145218   17.549833\n",
      "54781   24.852435   15.192986\n",
      "54782   16.649246   -0.108083\n",
      "54783   17.455101   24.640083\n",
      "54784   21.058400   11.628787\n",
      "54785    9.013176    3.322283\n",
      "54786   13.743401    2.666155\n",
      "54787   24.243673   -8.769671\n",
      "54788   17.637889   -8.119265\n",
      "54789   15.968323   -3.043493\n",
      "54790   20.560265  -11.611303\n",
      "54791   -0.238736    2.393405\n",
      "54792    1.188596  -20.503044\n",
      "54793   11.710167  -14.348666\n",
      "54794    2.987226   -4.388809\n",
      "54795   -1.715978    5.391757\n",
      "54796   -3.291766   25.954564\n",
      "54797   -3.862381   33.545176\n",
      "54798  -10.034879   38.700422\n",
      "\n",
      "[54799 rows x 2 columns]\n"
     ]
    }
   ],
   "source": [
    "# Listen to some EEG signal, what does it sound like\n",
    "import pickle\n",
    "\n",
    "# open a file, where you stored the pickled data\n",
    "eeg_file = open('./res/meditation_focus_data.pickle', 'rb')\n",
    "\n",
    "# dump information to that file\n",
    "eeg_data = pickle.load(eeg_file)\n",
    "\n",
    "print(eeg_data)"
   ]
  },
  {
   "cell_type": "code",
   "execution_count": 52,
   "metadata": {},
   "outputs": [
    {
     "data": {
      "image/png": "[encoded data removed]",
      "text/plain": [
       "<Figure size 432x288 with 1 Axes>"
      ]
     },
     "metadata": {
      "needs_background": "light"
     },
     "output_type": "display_data"
    }
   ],
   "source": [
    "meditation = eeg_data[\"meditation\"]\n",
    "\n",
    "f, med_spectrum = fft_1sided(meditation, 160)\n",
    "plt.plot(f, med_spectrum)\n",
    "\n",
    "meditation /= np.max(np.abs(meditation))\n",
    "\n",
    "sd.play(meditation, fs)\n"
   ]
  },
  {
   "cell_type": "code",
   "execution_count": 53,
   "metadata": {},
   "outputs": [
    {
     "data": {
      "image/png": "[encoded data removed]",
      "text/plain": [
       "<Figure size 432x288 with 1 Axes>"
      ]
     },
     "metadata": {
      "needs_background": "light"
     },
     "output_type": "display_data"
    }
   ],
   "source": [
    "focus = eeg_data[\"focus\"]\n",
    "\n",
    "focus /= np.max(np.abs(focus))\n",
    "\n",
    "sd.play(focus, fs)"
   ]
  },
  {
   "cell_type": "code",
   "execution_count": null,
   "metadata": {},
   "outputs": [],
   "source": []
  }
 ],
 "metadata": {
  "kernelspec": {
   "display_name": "Python 3",
   "language": "python",
   "name": "python3"
  },
  "language_info": {
   "codemirror_mode": {
    "name": "ipython",
    "version": 3
   },
   "file_extension": ".py",
   "mimetype": "text/x-python",
   "name": "python",
   "nbconvert_exporter": "python",
   "pygments_lexer": "ipython3",
   "version": "3.7.3"
  }
 },
 "nbformat": 4,
 "nbformat_minor": 2
}
